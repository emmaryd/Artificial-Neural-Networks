{
 "cells": [
  {
   "cell_type": "markdown",
   "metadata": {},
   "source": [
    "# Homework1\n",
    "## Stochastic Hopfield network"
   ]
  },
  {
   "cell_type": "code",
   "execution_count": 1,
   "metadata": {},
   "outputs": [],
   "source": [
    "import numpy as np\n",
    "import random\n",
    "import math\n",
    "\n",
    "class Hopfield():\n",
    "    \"\"\"Creates a Hopfield Network. Stores randomly generated patterns \n",
    "       as stored_patterns.\"\"\"\n",
    "    def __init__(self, num_bits, num_patterns):\n",
    "        self.weights = None\n",
    "        self.stored_patterns = np.random.choice([-1,1], \n",
    "                                size=(num_patterns,num_bits))\n",
    "\n",
    "    def hebbs_rule(self, diagonal_set_to_zero=True):\n",
    "        \"\"\"Generates the weight matrix for the stored patterns.\"\"\"\n",
    "            \n",
    "        num_bits = len(self.stored_patterns[0]) \n",
    "        self.weights = (1/num_bits)* np.dot(self.stored_patterns.T,\n",
    "                                            self.stored_patterns) \n",
    "        \n",
    "        if diagonal_set_to_zero == True:\n",
    "            for k in range(len(self.stored_patterns[0])):\n",
    "                self.weights[k][k] = 0\n",
    "            \n",
    "        return self.weights\n",
    "    \n",
    "    def stochastic_asynchronous(self, feed_pattern, beta=2): \n",
    "        \"\"\"Makes one asynchronous update to one randomly choosen neuron in \n",
    "        one choosen pattern.\"\"\"\n",
    "        \n",
    "        state = feed_pattern\n",
    "        num_bits =len(feed_pattern)\n",
    "        index_neuron = random.randint(0,num_bits-1)\n",
    "        \n",
    "        b = np.dot(self.weights[index_neuron],feed_pattern) #.T)\n",
    "        gb = 1/(1 + math.exp(-2*beta*b))\n",
    "        \n",
    "        state[index_neuron] = int(np.random.choice([-1,1],p=[1-gb,gb]))\n",
    "        \n",
    "        return state\n",
    "                           "
   ]
  },
  {
   "cell_type": "code",
   "execution_count": 2,
   "metadata": {},
   "outputs": [
    {
     "name": "stdout",
     "output_type": "stream",
     "text": [
      "0.8741922130000003\n",
      "0.14817420000000006\n"
     ]
    }
   ],
   "source": [
    "num_bits = 200\n",
    "num_updates = 200000\n",
    "num_patterns = [7, 45]\n",
    "num_experiments = 100\n",
    "\n",
    "# Iterates over the patterns in in n_patterns\n",
    "for n_pattern in num_patterns:\n",
    "    \n",
    "    # Performs the experiments num_experiments times. \n",
    "    sum_order_parameter = 0\n",
    "    for i in range(num_experiments):\n",
    "        # Generates the Hopfield Network\n",
    "        sto_network = Hopfield(num_bits, n_pattern)\n",
    "        # Calculates the weight matrix for the network\n",
    "        sto_network.hebbs_rule(diagonal_set_to_zero=True)\n",
    "\n",
    "        # Feeds the first of the stored patterns\n",
    "        feed_pattern = sto_network.stored_patterns[0]\n",
    "        # Saves the initial state of the first stored pattern as a variable\n",
    "        feed0 = feed_pattern.copy()\n",
    "\n",
    "        # Calculates the order parameter over num_updates number of updates\n",
    "        mu_sum = 0\n",
    "        order_parameter = 0\n",
    "        # Makes a stocchastic asynchronous update to the pattern num_updates times.\n",
    "        for i in range(num_updates):\n",
    "            state = sto_network.stochastic_asynchronous(feed_pattern,beta=2)\n",
    "            mu_sum += np.dot(feed_pattern,feed0.T)\n",
    "            feed_pattern = state\n",
    "\n",
    "        order_parameter = mu_sum/(num_updates*num_bits)\n",
    "\n",
    "        sum_order_parameter += order_parameter\n",
    "\n",
    "    # Calculates the average of the order parameters\n",
    "    average_order_parameter = sum_order_parameter / num_experiments\n",
    "\n",
    "    print(average_order_parameter)\n"
   ]
  },
  {
   "cell_type": "code",
   "execution_count": null,
   "metadata": {},
   "outputs": [],
   "source": []
  }
 ],
 "metadata": {
  "kernelspec": {
   "display_name": "Python 3",
   "language": "python",
   "name": "python3"
  },
  "language_info": {
   "codemirror_mode": {
    "name": "ipython",
    "version": 3
   },
   "file_extension": ".py",
   "mimetype": "text/x-python",
   "name": "python",
   "nbconvert_exporter": "python",
   "pygments_lexer": "ipython3",
   "version": "3.7.1"
  }
 },
 "nbformat": 4,
 "nbformat_minor": 2
}
